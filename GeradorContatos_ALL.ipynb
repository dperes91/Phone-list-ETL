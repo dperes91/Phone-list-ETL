{
 "cells": [
  {
   "cell_type": "code",
   "execution_count": 27,
   "metadata": {},
   "outputs": [],
   "source": [
    "import pandas as pd\n",
    "import vobject as vo\n",
    "import phonenumbers\n",
    "from phonenumbers import geocoder, carrier\n",
    "from phonenumbers import NumberParseException\n",
    "import os\n",
    "from tqdm import tqdm"
   ]
  },
  {
   "cell_type": "code",
   "execution_count": 28,
   "metadata": {},
   "outputs": [],
   "source": [
    "def define_loja(loja):\n",
    "    \n",
    "    indice_final = loja.find(\"_\")\n",
    "    indice_inicio =indice_final + 1\n",
    "\n",
    "    for i in range(indice_inicio, len(loja)):\n",
    "        if not loja[i].isdigit():\n",
    "            indice_final = i\n",
    "        else:\n",
    "            break\n",
    "    texto_extraido = loja[indice_inicio:indice_final + 1]\n",
    "    return texto_extraido\n",
    "\n",
    "\n",
    "def trata_nomes (nome):\n",
    "    if len(nome) <= 1 or nome == None or nome == '' or nome == ' ':\n",
    "        nome = \"Nao Identificado\"\n",
    "        return nome\n",
    "    else:\n",
    "        nome = nome[1]\n",
    "        nome = nome.strip()\n",
    "        nome = nome.replace(';', ' ').replace(',', ' ').replace('-', ' ')\n",
    "        #nome = nome.replace('â', 'a').replace('ã', 'a').replace('á', 'a').replace('à', 'a').replace('é', 'e').replace('ê', 'e').replace('í', 'i').replace('ó', 'o').replace('ô', 'o').replace('ú', 'u').replace('ç', 'c').replace('Â', 'A').replace('Ã', 'A').replace('Á', 'A').replace('À', 'A').replace('É', 'E').replace('Ê', 'E').replace('Í', 'I').replace('Ó', 'O').replace('Ô', 'O').replace('Ú', 'U').replace('Ç', 'C')\n",
    "        return nome\n",
    "\n",
    "def trata_nomes_sistema (nome):\n",
    "    if len(nome) <= 1 or nome == None or nome == '' or nome == ' ':\n",
    "        nome = \"Nao Identificado\"\n",
    "        return nome\n",
    "    else:\n",
    "        nome = nome.strip()\n",
    "        nome = nome.replace(';', ' ').replace(',', ' ').replace('-', ' ').replace('+', ' ').replace('(', ' ').replace(')', ' ').replace('.', ' ').replace('/', ' ').replace('_', ' ').replace('*', ' ').replace(';', ' ').replace(',', ' ').replace('#', ' ').replace(\"$\", ' ')\n",
    "        nome = nome.replace('â', 'a').replace('ã', 'a').replace('á', 'a').replace('à', 'a').replace('é', 'e').replace('ê', 'e').replace('í', 'i').replace('ó', 'o').replace('ô', 'o').replace('ú', 'u').replace('ç', 'c').replace('Â', 'A').replace('Ã', 'A').replace('Á', 'A').replace('À', 'A').replace('É', 'E').replace('Ê', 'E').replace('Í', 'I').replace('Ó', 'O').replace('Ô', 'O').replace('Ú', 'U').replace('Ç', 'C')\n",
    "        return nome\n",
    "\n",
    "def trata_cel(cel):\n",
    "\n",
    "    if (len(cel[1]) < 8 or cel is None or cel == '' or cel == ' ' or cel[1].isalpha() == True):\n",
    "        return None\n",
    "    else:\n",
    "        cel = cel[1]\n",
    "        cel = cel.strip()\n",
    "        cel = cel.replace(' ','').replace('(','').replace(')','').replace('+','').replace('.','').replace('/','').replace('_','').replace('*', '').replace(';', '').replace(',', '').replace('#', '').replace(\"$\", '').replace('-', '')\n",
    "        if (cel.isalpha() == True or cel.isalnum() == False):\n",
    "            return None\n",
    "        if len(cel) == 9:\n",
    "            cel = '021' + cel\n",
    "        elif len(cel) == 8:\n",
    "            cel = '0219' + cel\n",
    "        return cel\n",
    "\n",
    "def trata_cel_sistema(cel):\n",
    "\n",
    "    if (len(cel) < 8 or cel is None or cel == '' or cel == ' ' or cel.isalpha() == True or cel[0:4] == '(00)'):\n",
    "        return None\n",
    "    else:\n",
    "        #cel = cel[1]\n",
    "        cel = cel.strip()\n",
    "        cel = cel.replace(' ','').replace('(','').replace(')','').replace('+','').replace('.','').replace('/','').replace('_','').replace('*', '').replace(';', '').replace(',', '').replace('#', '').replace(\"$\", '').replace('-', '')\n",
    "        if (cel.isalpha() == True or cel.isalnum() == False):\n",
    "            return None\n",
    "        if len(cel) == 9:\n",
    "            cel = '021' + cel\n",
    "        elif len(cel) == 8:\n",
    "            cel = '0219' + cel\n",
    "        return cel\n",
    "\n",
    "def parse_phone_number(tel, region='BR'):\n",
    "    value = None\n",
    "    parsed_tel = None \n",
    "    e164_format = None\n",
    "    national = None\n",
    "    international = None\n",
    "\n",
    "    parsed_tel = phonenumbers.parse(tel, region)\n",
    "\n",
    "    # Verifica se o número de telefone é válido\n",
    "    if phonenumbers.is_valid_number(parsed_tel):\n",
    "    \n",
    "        # Transforma o número de telefone para o formato Nacional\n",
    "        if phonenumbers.format_number(parsed_tel, phonenumbers.PhoneNumberFormat.NATIONAL) is None:\n",
    "            national = 0\n",
    "        else:\n",
    "            national = phonenumbers.format_number(parsed_tel, phonenumbers.PhoneNumberFormat.NATIONAL)\n",
    "\n",
    "        # Transforma o número de telefone para o formato E164\n",
    "        if phonenumbers.format_number(parsed_tel, phonenumbers.PhoneNumberFormat.E164) is None:\n",
    "            e164_format = 0\n",
    "        else:\n",
    "            e164_format = phonenumbers.format_number(parsed_tel, phonenumbers.PhoneNumberFormat.E164)\n",
    "\n",
    "        # Transforma o número de telefone para o formato Internacional\n",
    "        if phonenumbers.format_number(parsed_tel, phonenumbers.PhoneNumberFormat.INTERNATIONAL) is None:\n",
    "            international = 0\n",
    "        else:\n",
    "            international = phonenumbers.format_number(parsed_tel, phonenumbers.PhoneNumberFormat.INTERNATIONAL)\n",
    "\n",
    "        \n",
    "        if e164_format != 0:\n",
    "            value = e164_format\n",
    "        elif national != 0:\n",
    "            value = national\n",
    "        elif international != 0:\n",
    "            value = international\n",
    "        else:\n",
    "            value = None\n",
    "\n",
    "    else :\n",
    "        value = None\n",
    "        \n",
    "    return value"
   ]
  },
  {
   "cell_type": "markdown",
   "metadata": {},
   "source": [
    "#### Trata os arquivos dos celulares e junta os que sao da mesma loja."
   ]
  },
  {
   "cell_type": "code",
   "execution_count": 33,
   "metadata": {},
   "outputs": [
    {
     "name": "stderr",
     "output_type": "stream",
     "text": [
      "Gerando arquivos:   0%|          | 0/40 [00:00<?, ?it/s]"
     ]
    },
    {
     "name": "stdout",
     "output_type": "stream",
     "text": [
      "Gerando arquivo Contatos_BarraShopping.csv\n"
     ]
    },
    {
     "name": "stderr",
     "output_type": "stream",
     "text": [
      "Gerando arquivos:   2%|▎         | 1/40 [00:06<04:14,  6.53s/it]"
     ]
    },
    {
     "name": "stdout",
     "output_type": "stream",
     "text": [
      "Arquivo Contatos_BarraShopping.csv gerado com sucesso!\n",
      "=================\n",
      "Gerando arquivo Contatos_BarraShopping2.csv\n"
     ]
    },
    {
     "name": "stderr",
     "output_type": "stream",
     "text": [
      "Gerando arquivos:   5%|▌         | 2/40 [00:32<11:12, 17.70s/it]"
     ]
    },
    {
     "name": "stdout",
     "output_type": "stream",
     "text": [
      "Arquivo Contatos_BarraShopping2.csv gerado com sucesso!\n",
      "=================\n",
      "Gerando arquivo Contatos_BarraShopping3.csv\n"
     ]
    },
    {
     "name": "stderr",
     "output_type": "stream",
     "text": [
      "Gerando arquivos:   8%|▊         | 3/40 [00:37<07:20, 11.92s/it]"
     ]
    },
    {
     "name": "stdout",
     "output_type": "stream",
     "text": [
      "Arquivo Contatos_BarraShopping3.csv gerado com sucesso!\n",
      "=================\n",
      "Gerando arquivo Contatos_BossaNova.csv\n"
     ]
    },
    {
     "name": "stderr",
     "output_type": "stream",
     "text": [
      "Gerando arquivos:  10%|█         | 4/40 [01:05<10:57, 18.27s/it]"
     ]
    },
    {
     "name": "stdout",
     "output_type": "stream",
     "text": [
      "Arquivo Contatos_BossaNova.csv gerado com sucesso!\n",
      "=================\n",
      "Gerando arquivo Contatos_BossaNova2.csv\n"
     ]
    },
    {
     "name": "stderr",
     "output_type": "stream",
     "text": [
      "Gerando arquivos:  12%|█▎        | 5/40 [01:39<14:00, 24.02s/it]"
     ]
    },
    {
     "name": "stdout",
     "output_type": "stream",
     "text": [
      "Arquivo Contatos_BossaNova2.csv gerado com sucesso!\n",
      "=================\n",
      "Gerando arquivo Contatos_BossaNova3.csv\n"
     ]
    },
    {
     "name": "stderr",
     "output_type": "stream",
     "text": [
      "Gerando arquivos:  15%|█▌        | 6/40 [02:13<15:31, 27.40s/it]"
     ]
    },
    {
     "name": "stdout",
     "output_type": "stream",
     "text": [
      "Arquivo Contatos_BossaNova3.csv gerado com sucesso!\n",
      "=================\n",
      "Gerando arquivo Contatos_Dermatologic.csv\n"
     ]
    },
    {
     "name": "stderr",
     "output_type": "stream",
     "text": [
      "Gerando arquivos:  18%|█▊        | 7/40 [02:18<11:02, 20.07s/it]"
     ]
    },
    {
     "name": "stdout",
     "output_type": "stream",
     "text": [
      "Arquivo Contatos_Dermatologic.csv gerado com sucesso!\n",
      "=================\n",
      "Gerando arquivo Contatos_Dermatologic2.csv\n"
     ]
    },
    {
     "name": "stderr",
     "output_type": "stream",
     "text": [
      "Gerando arquivos:  20%|██        | 8/40 [02:23<08:07, 15.22s/it]"
     ]
    },
    {
     "name": "stdout",
     "output_type": "stream",
     "text": [
      "Arquivo Contatos_Dermatologic2.csv gerado com sucesso!\n",
      "=================\n",
      "Gerando arquivo Contatos_DtwBarra.csv\n"
     ]
    },
    {
     "name": "stderr",
     "output_type": "stream",
     "text": [
      "Gerando arquivos:  22%|██▎       | 9/40 [02:34<07:15, 14.03s/it]"
     ]
    },
    {
     "name": "stdout",
     "output_type": "stream",
     "text": [
      "Arquivo Contatos_DtwBarra.csv gerado com sucesso!\n",
      "=================\n",
      "Gerando arquivo Contatos_DtwBarra2.csv\n"
     ]
    },
    {
     "name": "stderr",
     "output_type": "stream",
     "text": [
      "Gerando arquivos:  25%|██▌       | 10/40 [02:52<07:35, 15.20s/it]"
     ]
    },
    {
     "name": "stdout",
     "output_type": "stream",
     "text": [
      "Arquivo Contatos_DtwBarra2.csv gerado com sucesso!\n",
      "=================\n",
      "Gerando arquivo Contatos_DtwBarra3.csv\n"
     ]
    },
    {
     "name": "stderr",
     "output_type": "stream",
     "text": [
      "Gerando arquivos:  28%|██▊       | 11/40 [02:58<05:57, 12.33s/it]"
     ]
    },
    {
     "name": "stdout",
     "output_type": "stream",
     "text": [
      "Arquivo Contatos_DtwBarra3.csv gerado com sucesso!\n",
      "=================\n",
      "Gerando arquivo Contatos_DtwExperience.csv\n"
     ]
    },
    {
     "name": "stderr",
     "output_type": "stream",
     "text": [
      "Gerando arquivos:  30%|███       | 12/40 [03:11<05:55, 12.71s/it]"
     ]
    },
    {
     "name": "stdout",
     "output_type": "stream",
     "text": [
      "Arquivo Contatos_DtwExperience.csv gerado com sucesso!\n",
      "=================\n",
      "Gerando arquivo Contatos_DtwExperience2.csv\n"
     ]
    },
    {
     "name": "stderr",
     "output_type": "stream",
     "text": [
      "Gerando arquivos:  32%|███▎      | 13/40 [03:35<07:12, 16.01s/it]"
     ]
    },
    {
     "name": "stdout",
     "output_type": "stream",
     "text": [
      "Arquivo Contatos_DtwExperience2.csv gerado com sucesso!\n",
      "=================\n",
      "Gerando arquivo Contatos_DtwPremium.csv\n"
     ]
    },
    {
     "name": "stderr",
     "output_type": "stream",
     "text": [
      "Gerando arquivos:  35%|███▌      | 14/40 [03:43<05:57, 13.74s/it]"
     ]
    },
    {
     "name": "stdout",
     "output_type": "stream",
     "text": [
      "Arquivo Contatos_DtwPremium.csv gerado com sucesso!\n",
      "=================\n",
      "Gerando arquivo Contatos_DtwPremium2.csv\n"
     ]
    },
    {
     "name": "stderr",
     "output_type": "stream",
     "text": [
      "Gerando arquivos:  38%|███▊      | 15/40 [03:51<04:58, 11.93s/it]"
     ]
    },
    {
     "name": "stdout",
     "output_type": "stream",
     "text": [
      "Arquivo Contatos_DtwPremium2.csv gerado com sucesso!\n",
      "=================\n",
      "Gerando arquivo Contatos_DtwPremium3.csv\n"
     ]
    },
    {
     "name": "stderr",
     "output_type": "stream",
     "text": [
      "Gerando arquivos:  40%|████      | 16/40 [04:07<05:12, 13.02s/it]"
     ]
    },
    {
     "name": "stdout",
     "output_type": "stream",
     "text": [
      "Arquivo Contatos_DtwPremium3.csv gerado com sucesso!\n",
      "=================\n",
      "Gerando arquivo Contatos_Esthetic.csv\n"
     ]
    },
    {
     "name": "stderr",
     "output_type": "stream",
     "text": [
      "Gerando arquivos:  42%|████▎     | 17/40 [04:15<04:24, 11.48s/it]"
     ]
    },
    {
     "name": "stdout",
     "output_type": "stream",
     "text": [
      "Arquivo Contatos_Esthetic.csv gerado com sucesso!\n",
      "=================\n",
      "Gerando arquivo Contatos_Ipanema.csv\n"
     ]
    },
    {
     "name": "stderr",
     "output_type": "stream",
     "text": [
      "Gerando arquivos:  45%|████▌     | 18/40 [04:15<02:59,  8.15s/it]"
     ]
    },
    {
     "name": "stdout",
     "output_type": "stream",
     "text": [
      "Arquivo Contatos_Ipanema.csv gerado com sucesso!\n",
      "=================\n",
      "Gerando arquivo Contatos_Ipanema2.csv\n"
     ]
    },
    {
     "name": "stderr",
     "output_type": "stream",
     "text": [
      "Gerando arquivos:  48%|████▊     | 19/40 [04:42<04:48, 13.73s/it]"
     ]
    },
    {
     "name": "stdout",
     "output_type": "stream",
     "text": [
      "Arquivo Contatos_Ipanema2.csv gerado com sucesso!\n",
      "=================\n",
      "Gerando arquivo Contatos_Ipanema3.csv\n"
     ]
    },
    {
     "name": "stderr",
     "output_type": "stream",
     "text": [
      "Gerando arquivos:  50%|█████     | 20/40 [04:56<04:39, 13.98s/it]"
     ]
    },
    {
     "name": "stdout",
     "output_type": "stream",
     "text": [
      "Arquivo Contatos_Ipanema3.csv gerado com sucesso!\n",
      "=================\n",
      "Gerando arquivo Contatos_Ipanema4.csv\n"
     ]
    },
    {
     "name": "stderr",
     "output_type": "stream",
     "text": [
      "Gerando arquivos:  52%|█████▎    | 21/40 [05:09<04:20, 13.70s/it]"
     ]
    },
    {
     "name": "stdout",
     "output_type": "stream",
     "text": [
      "Arquivo Contatos_Ipanema4.csv gerado com sucesso!\n",
      "=================\n",
      "Gerando arquivo Contatos_Ipanema5.csv\n"
     ]
    },
    {
     "name": "stderr",
     "output_type": "stream",
     "text": [
      "Gerando arquivos:  55%|█████▌    | 22/40 [05:16<03:28, 11.56s/it]"
     ]
    },
    {
     "name": "stdout",
     "output_type": "stream",
     "text": [
      "Arquivo Contatos_Ipanema5.csv gerado com sucesso!\n",
      "=================\n",
      "Gerando arquivo Contatos_Ipanema6.csv\n"
     ]
    },
    {
     "name": "stderr",
     "output_type": "stream",
     "text": [
      "Gerando arquivos:  57%|█████▊    | 23/40 [05:22<02:46,  9.81s/it]"
     ]
    },
    {
     "name": "stdout",
     "output_type": "stream",
     "text": [
      "Arquivo Contatos_Ipanema6.csv gerado com sucesso!\n",
      "=================\n",
      "Gerando arquivo Contatos_Laser.csv\n"
     ]
    },
    {
     "name": "stderr",
     "output_type": "stream",
     "text": [
      "Gerando arquivos:  60%|██████    | 24/40 [05:26<02:11,  8.24s/it]"
     ]
    },
    {
     "name": "stdout",
     "output_type": "stream",
     "text": [
      "Arquivo Contatos_Laser.csv gerado com sucesso!\n",
      "=================\n",
      "Gerando arquivo Contatos_Niteroi.csv\n"
     ]
    },
    {
     "name": "stderr",
     "output_type": "stream",
     "text": [
      "Gerando arquivos:  62%|██████▎   | 25/40 [05:45<02:50, 11.33s/it]"
     ]
    },
    {
     "name": "stdout",
     "output_type": "stream",
     "text": [
      "Arquivo Contatos_Niteroi.csv gerado com sucesso!\n",
      "=================\n",
      "Gerando arquivo Contatos_Niteroi2.csv\n"
     ]
    },
    {
     "name": "stderr",
     "output_type": "stream",
     "text": [
      "Gerando arquivos:  65%|██████▌   | 26/40 [05:46<01:55,  8.28s/it]"
     ]
    },
    {
     "name": "stdout",
     "output_type": "stream",
     "text": [
      "Arquivo Contatos_Niteroi2.csv gerado com sucesso!\n",
      "=================\n",
      "Gerando arquivo Contatos_Niteroi3.csv\n"
     ]
    },
    {
     "name": "stderr",
     "output_type": "stream",
     "text": [
      "Gerando arquivos:  68%|██████▊   | 27/40 [06:07<02:38, 12.22s/it]"
     ]
    },
    {
     "name": "stdout",
     "output_type": "stream",
     "text": [
      "Arquivo Contatos_Niteroi3.csv gerado com sucesso!\n",
      "=================\n",
      "Gerando arquivo Contatos_Niteroi4.csv\n"
     ]
    },
    {
     "name": "stderr",
     "output_type": "stream",
     "text": [
      "Gerando arquivos:  70%|███████   | 28/40 [06:23<02:38, 13.22s/it]"
     ]
    },
    {
     "name": "stdout",
     "output_type": "stream",
     "text": [
      "Arquivo Contatos_Niteroi4.csv gerado com sucesso!\n",
      "=================\n",
      "Gerando arquivo Contatos_Niteroi5.csv\n"
     ]
    },
    {
     "name": "stderr",
     "output_type": "stream",
     "text": [
      "Gerando arquivos:  72%|███████▎  | 29/40 [06:40<02:37, 14.35s/it]"
     ]
    },
    {
     "name": "stdout",
     "output_type": "stream",
     "text": [
      "Arquivo Contatos_Niteroi5.csv gerado com sucesso!\n",
      "=================\n",
      "Gerando arquivo Contatos_Niteroi6.csv\n"
     ]
    },
    {
     "name": "stderr",
     "output_type": "stream",
     "text": [
      "Gerando arquivos:  75%|███████▌  | 30/40 [06:56<02:28, 14.86s/it]"
     ]
    },
    {
     "name": "stdout",
     "output_type": "stream",
     "text": [
      "Arquivo Contatos_Niteroi6.csv gerado com sucesso!\n",
      "=================\n",
      "Gerando arquivo Contatos_Niteroi7.csv\n"
     ]
    },
    {
     "name": "stderr",
     "output_type": "stream",
     "text": [
      "Gerando arquivos:  78%|███████▊  | 31/40 [06:57<01:36, 10.73s/it]"
     ]
    },
    {
     "name": "stdout",
     "output_type": "stream",
     "text": [
      "Arquivo Contatos_Niteroi7.csv gerado com sucesso!\n",
      "=================\n",
      "Gerando arquivo Contatos_NorteShopping.csv\n"
     ]
    },
    {
     "name": "stderr",
     "output_type": "stream",
     "text": [
      "Gerando arquivos:  80%|████████  | 32/40 [07:13<01:37, 12.18s/it]"
     ]
    },
    {
     "name": "stdout",
     "output_type": "stream",
     "text": [
      "Arquivo Contatos_NorteShopping.csv gerado com sucesso!\n",
      "=================\n",
      "Gerando arquivo Contatos_NorteShopping2.csv\n"
     ]
    },
    {
     "name": "stderr",
     "output_type": "stream",
     "text": [
      "Gerando arquivos:  82%|████████▎ | 33/40 [07:26<01:28, 12.59s/it]"
     ]
    },
    {
     "name": "stdout",
     "output_type": "stream",
     "text": [
      "Arquivo Contatos_NorteShopping2.csv gerado com sucesso!\n",
      "=================\n",
      "Gerando arquivo Contatos_NorteShopping3.csv\n"
     ]
    },
    {
     "name": "stderr",
     "output_type": "stream",
     "text": [
      "Gerando arquivos:  85%|████████▌ | 34/40 [07:32<01:03, 10.52s/it]"
     ]
    },
    {
     "name": "stdout",
     "output_type": "stream",
     "text": [
      "Arquivo Contatos_NorteShopping3.csv gerado com sucesso!\n",
      "=================\n",
      "Gerando arquivo Contatos_NovaIguacu.csv\n"
     ]
    },
    {
     "name": "stderr",
     "output_type": "stream",
     "text": [
      "Gerando arquivos:  88%|████████▊ | 35/40 [07:32<00:37,  7.46s/it]"
     ]
    },
    {
     "name": "stdout",
     "output_type": "stream",
     "text": [
      "Arquivo Contatos_NovaIguacu.csv gerado com sucesso!\n",
      "=================\n",
      "Gerando arquivo Contatos_NovaIguacu2.csv\n"
     ]
    },
    {
     "name": "stderr",
     "output_type": "stream",
     "text": [
      "Gerando arquivos:  90%|█████████ | 36/40 [07:34<00:23,  5.79s/it]"
     ]
    },
    {
     "name": "stdout",
     "output_type": "stream",
     "text": [
      "Arquivo Contatos_NovaIguacu2.csv gerado com sucesso!\n",
      "=================\n",
      "Gerando arquivo Contatos_Tijuca.csv\n"
     ]
    },
    {
     "name": "stderr",
     "output_type": "stream",
     "text": [
      "Gerando arquivos:  92%|█████████▎| 37/40 [07:51<00:27,  9.31s/it]"
     ]
    },
    {
     "name": "stdout",
     "output_type": "stream",
     "text": [
      "Arquivo Contatos_Tijuca.csv gerado com sucesso!\n",
      "=================\n",
      "Gerando arquivo Contatos_Tijuca2.csv\n"
     ]
    },
    {
     "name": "stderr",
     "output_type": "stream",
     "text": [
      "Gerando arquivos:  95%|█████████▌| 38/40 [08:10<00:24, 12.01s/it]"
     ]
    },
    {
     "name": "stdout",
     "output_type": "stream",
     "text": [
      "Arquivo Contatos_Tijuca2.csv gerado com sucesso!\n",
      "=================\n",
      "Gerando arquivo Contatos_Tijuca3.csv\n"
     ]
    },
    {
     "name": "stderr",
     "output_type": "stream",
     "text": [
      "Gerando arquivos:  98%|█████████▊| 39/40 [08:36<00:16, 16.39s/it]"
     ]
    },
    {
     "name": "stdout",
     "output_type": "stream",
     "text": [
      "Arquivo Contatos_Tijuca3.csv gerado com sucesso!\n",
      "=================\n",
      "Gerando arquivo Contatos_Tijuca4.csv\n"
     ]
    },
    {
     "name": "stderr",
     "output_type": "stream",
     "text": [
      "Gerando arquivos: 100%|██████████| 40/40 [09:14<00:00, 13.86s/it]\n"
     ]
    },
    {
     "name": "stdout",
     "output_type": "stream",
     "text": [
      "Arquivo Contatos_Tijuca4.csv gerado com sucesso!\n",
      "=================\n",
      "==============UNINDO OS ARQUIVOS================\n"
     ]
    },
    {
     "name": "stderr",
     "output_type": "stream",
     "text": [
      "Unindo os arquivos:   5%|▌         | 2/40 [00:00<00:03, 12.05it/s]"
     ]
    },
    {
     "name": "stdout",
     "output_type": "stream",
     "text": [
      "Arquivo Contatos_BarraShopping.csv gerado com sucesso!\n",
      "=================\n",
      "Arquivo Contatos_BarraShopping2.csv adicionado com sucesso!\n",
      "=================\n"
     ]
    },
    {
     "name": "stderr",
     "output_type": "stream",
     "text": [
      "Unindo os arquivos:  10%|█         | 4/40 [00:00<00:03, 10.09it/s]"
     ]
    },
    {
     "name": "stdout",
     "output_type": "stream",
     "text": [
      "Arquivo Contatos_BarraShopping3.csv adicionado com sucesso!\n",
      "=================\n",
      "Arquivo Contatos_BossaNova.csv gerado com sucesso!\n",
      "=================\n",
      "Arquivo Contatos_BossaNova2.csv adicionado com sucesso!\n",
      "=================\n"
     ]
    },
    {
     "name": "stderr",
     "output_type": "stream",
     "text": [
      "Unindo os arquivos:  22%|██▎       | 9/40 [00:01<00:03,  9.41it/s]"
     ]
    },
    {
     "name": "stdout",
     "output_type": "stream",
     "text": [
      "Arquivo Contatos_BossaNova3.csv adicionado com sucesso!\n",
      "=================\n",
      "Arquivo Contatos_Dermatologic.csv gerado com sucesso!\n",
      "=================\n",
      "Arquivo Contatos_Dermatologic2.csv adicionado com sucesso!\n",
      "=================\n",
      "Arquivo Contatos_DtwBarra.csv gerado com sucesso!\n",
      "=================\n",
      "Arquivo Contatos_DtwBarra2.csv adicionado com sucesso!\n",
      "=================\n",
      "Arquivo Contatos_DtwBarra3.csv adicionado com sucesso!\n",
      "=================\n"
     ]
    },
    {
     "name": "stderr",
     "output_type": "stream",
     "text": [
      "Unindo os arquivos:  28%|██▊       | 11/40 [00:01<00:04,  7.21it/s]"
     ]
    },
    {
     "name": "stdout",
     "output_type": "stream",
     "text": [
      "Arquivo Contatos_DtwExperience.csv gerado com sucesso!\n",
      "=================\n",
      "Arquivo Contatos_DtwExperience2.csv adicionado com sucesso!\n",
      "=================\n"
     ]
    },
    {
     "name": "stderr",
     "output_type": "stream",
     "text": [
      "Unindo os arquivos:  38%|███▊      | 15/40 [00:01<00:02,  9.04it/s]"
     ]
    },
    {
     "name": "stdout",
     "output_type": "stream",
     "text": [
      "Arquivo Contatos_DtwPremium.csv gerado com sucesso!\n",
      "=================\n",
      "Arquivo Contatos_DtwPremium2.csv adicionado com sucesso!\n",
      "=================\n"
     ]
    },
    {
     "name": "stderr",
     "output_type": "stream",
     "text": [
      "Unindo os arquivos:  42%|████▎     | 17/40 [00:02<00:02,  9.06it/s]"
     ]
    },
    {
     "name": "stdout",
     "output_type": "stream",
     "text": [
      "Arquivo Contatos_DtwPremium3.csv adicionado com sucesso!\n",
      "=================\n",
      "Arquivo Contatos_Esthetic.csv gerado com sucesso!\n",
      "=================\n",
      "Arquivo Contatos_Ipanema.csv gerado com sucesso!\n",
      "=================\n"
     ]
    },
    {
     "name": "stderr",
     "output_type": "stream",
     "text": [
      "Unindo os arquivos:  48%|████▊     | 19/40 [00:02<00:02,  9.74it/s]"
     ]
    },
    {
     "name": "stdout",
     "output_type": "stream",
     "text": [
      "Arquivo Contatos_Ipanema2.csv adicionado com sucesso!\n",
      "=================\n",
      "Arquivo Contatos_Ipanema3.csv adicionado com sucesso!\n",
      "=================\n"
     ]
    },
    {
     "name": "stderr",
     "output_type": "stream",
     "text": [
      "Unindo os arquivos:  52%|█████▎    | 21/40 [00:02<00:02,  9.03it/s]"
     ]
    },
    {
     "name": "stdout",
     "output_type": "stream",
     "text": [
      "Arquivo Contatos_Ipanema4.csv adicionado com sucesso!\n",
      "=================\n",
      "Arquivo Contatos_Ipanema5.csv adicionado com sucesso!\n",
      "=================\n"
     ]
    },
    {
     "name": "stderr",
     "output_type": "stream",
     "text": [
      "Unindo os arquivos:  62%|██████▎   | 25/40 [00:02<00:01,  8.69it/s]"
     ]
    },
    {
     "name": "stdout",
     "output_type": "stream",
     "text": [
      "Arquivo Contatos_Ipanema6.csv adicionado com sucesso!\n",
      "=================\n",
      "Arquivo Contatos_Laser.csv gerado com sucesso!\n",
      "=================\n",
      "Arquivo Contatos_Niteroi.csv gerado com sucesso!\n",
      "=================\n"
     ]
    },
    {
     "name": "stderr",
     "output_type": "stream",
     "text": [
      "Unindo os arquivos:  68%|██████▊   | 27/40 [00:03<00:01,  7.39it/s]"
     ]
    },
    {
     "name": "stdout",
     "output_type": "stream",
     "text": [
      "Arquivo Contatos_Niteroi2.csv adicionado com sucesso!\n",
      "=================\n",
      "Arquivo Contatos_Niteroi3.csv adicionado com sucesso!\n",
      "=================\n"
     ]
    },
    {
     "name": "stderr",
     "output_type": "stream",
     "text": [
      "Unindo os arquivos:  72%|███████▎  | 29/40 [00:03<00:01,  6.72it/s]"
     ]
    },
    {
     "name": "stdout",
     "output_type": "stream",
     "text": [
      "Arquivo Contatos_Niteroi4.csv adicionado com sucesso!\n",
      "=================\n",
      "Arquivo Contatos_Niteroi5.csv adicionado com sucesso!\n",
      "=================\n"
     ]
    },
    {
     "name": "stderr",
     "output_type": "stream",
     "text": [
      "Unindo os arquivos:  78%|███████▊  | 31/40 [00:03<00:01,  6.72it/s]"
     ]
    },
    {
     "name": "stdout",
     "output_type": "stream",
     "text": [
      "Arquivo Contatos_Niteroi6.csv adicionado com sucesso!\n",
      "=================\n",
      "Arquivo Contatos_Niteroi7.csv adicionado com sucesso!\n",
      "=================\n",
      "Arquivo Contatos_NorteShopping.csv gerado com sucesso!\n",
      "=================\n"
     ]
    },
    {
     "name": "stderr",
     "output_type": "stream",
     "text": [
      "Unindo os arquivos:  88%|████████▊ | 35/40 [00:04<00:00, 10.85it/s]"
     ]
    },
    {
     "name": "stdout",
     "output_type": "stream",
     "text": [
      "Arquivo Contatos_NorteShopping2.csv adicionado com sucesso!\n",
      "=================\n",
      "Arquivo Contatos_NorteShopping3.csv adicionado com sucesso!\n",
      "=================\n",
      "Arquivo Contatos_NovaIguacu.csv gerado com sucesso!\n",
      "=================\n",
      "Arquivo Contatos_NovaIguacu2.csv adicionado com sucesso!\n",
      "=================\n",
      "Arquivo Contatos_Tijuca.csv gerado com sucesso!\n",
      "=================\n"
     ]
    },
    {
     "name": "stderr",
     "output_type": "stream",
     "text": [
      "Unindo os arquivos:  95%|█████████▌| 38/40 [00:04<00:00, 12.16it/s]"
     ]
    },
    {
     "name": "stdout",
     "output_type": "stream",
     "text": [
      "Arquivo Contatos_Tijuca2.csv adicionado com sucesso!\n",
      "=================\n",
      "Arquivo Contatos_Tijuca3.csv adicionado com sucesso!\n",
      "=================\n",
      "Arquivo Contatos_Tijuca4.csv adicionado com sucesso!\n",
      "=================\n"
     ]
    },
    {
     "name": "stderr",
     "output_type": "stream",
     "text": [
      "Unindo os arquivos: 100%|██████████| 40/40 [00:04<00:00,  8.70it/s]\n"
     ]
    }
   ],
   "source": [
    "#Caminho onde estao os dados\n",
    "path = '../data/'\n",
    "path_cel = '../output_celulares/'\n",
    "lojas_inseridas = []\n",
    "\n",
    "for nome_arquivo in tqdm(os.listdir(path), desc='Gerando arquivos'):\n",
    "\n",
    "    #Caminho do arquivo\n",
    "    caminho_arquivo = os.path.join(path, nome_arquivo)\n",
    "    \n",
    "    #Nome do arquivo sem extensao\n",
    "    nome_arquivo_sem_extensao = os.path.splitext(nome_arquivo)[0]\n",
    "\n",
    "    #Nome da Loja\n",
    "    loja = define_loja(nome_arquivo_sem_extensao)\n",
    "\n",
    "    #Acrescenta o nome da loja na lista das lojas \n",
    "    print(f\"Gerando arquivo {nome_arquivo_sem_extensao}.csv\")\n",
    "\n",
    "    #Exclui os valores do dataframe e recria o dataframe\n",
    "    df = None\n",
    "    #email = None\n",
    "    df = pd.DataFrame(columns = ['Nome', 'email', 'Telefone', 'Loja'])\n",
    "\n",
    "    if os.path.isfile(caminho_arquivo):\n",
    "        with open(caminho_arquivo, 'r') as f:\n",
    "            text = f.read()\n",
    "\n",
    "            #Separando os contatos\n",
    "            contacts = text.split('BEGIN:VCARD')[1:]\n",
    "\n",
    "            #Percorrendo os contatos e extraindo os valores para uma lista\n",
    "            contacts = [contact.split('\\n') for contact in contacts]\n",
    "\n",
    "            #Percorrendo os contatos e extraindo os valores para um dicionário\n",
    "            for n,a in enumerate(contacts):\n",
    "                for i in a:\n",
    "                    # Inicia tratamento dos dados\n",
    "                    if 'FN' in i:\n",
    "                        parts_fn = i.split(':')\n",
    "                        name = trata_nomes(parts_fn)\n",
    "                    elif 'TEL;CEL' in i:\n",
    "                        parts_cel = i.split(':')\n",
    "                        tel = trata_cel(parts_cel)\n",
    "                        if tel is not None:\n",
    "                            parsed_tel = parse_phone_number(tel)\n",
    "                        else:\n",
    "                            parsed_tel = None\n",
    "                if parsed_tel is not None:\n",
    "                    email = ''\n",
    "                    df.loc[n] = [name, email, parsed_tel, loja]\n",
    "\n",
    "            #Salva o arquivo csv\n",
    "            df.to_csv(f'../output_celulares/{nome_arquivo_sem_extensao}.csv', index=False)\n",
    "            df = df.drop_duplicates(subset='Telefone', keep='first')\n",
    "            print(f\"Arquivo {nome_arquivo_sem_extensao}.csv gerado com sucesso!\")\n",
    "            print(\"=================\")\n",
    "\n",
    "#Unindo os arquivos\n",
    "print(\"==============UNINDO OS ARQUIVOS================\")\n",
    "for nome_arquivo in tqdm(os.listdir(path_cel), desc='Unindo os arquivos'):\n",
    "\n",
    "    #Caminho do arquivo\n",
    "    caminho_arquivo = os.path.join(path_cel, nome_arquivo)\n",
    "    \n",
    "    #Nome do arquivo sem extensao\n",
    "    nome_arquivo_sem_extensao = os.path.splitext(nome_arquivo)[0]\n",
    "\n",
    "    #Nome da Loja\n",
    "    loja = define_loja(nome_arquivo_sem_extensao)\n",
    "\n",
    "    if loja not in lojas_inseridas:\n",
    "\n",
    "        #Insere a loja na lista\n",
    "        lojas_inseridas.append(loja)\n",
    "\n",
    "        #Atribuindo dataframe ao arquivo\n",
    "        df = pd.read_csv(caminho_arquivo)\n",
    "        df.drop_duplicates(subset='Telefone', keep='first')\n",
    "        df.to_csv(f'../output_celulares_juntos/Contatos_{loja}.csv', index=False)\n",
    "        print(f\"Arquivo Contatos_{loja}.csv gerado com sucesso!\")\n",
    "        df = None\n",
    "        print(\"=================\")\n",
    "    else:\n",
    "        #Ler o arquivo atual\n",
    "        df_new = pd.read_csv(caminho_arquivo)\n",
    "\n",
    "        #Ler o dataframe existente e concatena os dois\n",
    "        df_existing = pd.read_csv(f'../output_celulares_juntos/Contatos_{loja}.csv')  \n",
    "        df = pd.concat([df_existing, df_new], ignore_index=True)\n",
    "\n",
    "        #Remove duplicados\n",
    "        df = df.drop_duplicates(subset='Telefone', keep='first')\n",
    "\n",
    "        #Salva o arquivo resultante\n",
    "        df.to_csv(f'../output_celulares_juntos/Contatos_{loja}.csv', index=False)\n",
    "        print(f\"Arquivo {nome_arquivo_sem_extensao}.csv adicionado com sucesso!\")\n",
    "        print(\"=================\")\n",
    "\n",
    "        #Zera as variáveis\n",
    "        df = None\n",
    "        df_new = None\n",
    "        df_existing = None"
   ]
  },
  {
   "cell_type": "markdown",
   "metadata": {},
   "source": [
    "#### Trata os arquivos do sistema Estetica Ágil de cada loja"
   ]
  },
  {
   "cell_type": "code",
   "execution_count": 34,
   "metadata": {},
   "outputs": [
    {
     "name": "stdout",
     "output_type": "stream",
     "text": [
      "Tratando loja BarraShopping\n",
      "Arquivo BarraShopping.csv gerado com sucesso!\n",
      "Tratando loja BossaNova\n",
      "Arquivo BossaNova.csv gerado com sucesso!\n",
      "Tratando loja Dermatologic\n",
      "Arquivo Dermatologic.csv gerado com sucesso!\n",
      "Tratando loja DtwBarra\n",
      "Arquivo DtwBarra.csv gerado com sucesso!\n",
      "Tratando loja Esthetic\n",
      "Arquivo Esthetic.csv gerado com sucesso!\n",
      "Tratando loja Ipanema\n",
      "Arquivo Ipanema.csv gerado com sucesso!\n",
      "Tratando loja Laser\n",
      "Arquivo Laser.csv gerado com sucesso!\n",
      "Tratando loja Niteroi\n",
      "Arquivo Niteroi.csv gerado com sucesso!\n",
      "Tratando loja NorteShopping\n",
      "Arquivo NorteShopping.csv gerado com sucesso!\n",
      "Tratando loja Tijuca\n",
      "Arquivo Tijuca.csv gerado com sucesso!\n"
     ]
    }
   ],
   "source": [
    "#Caminho onde estao os dados\n",
    "path = '../dados_sistema/'\n",
    "\n",
    "for nome_arquivo in tqdm(os.listdir(path), desc='Gerando arquivos do sistema'):\n",
    "    #Caminho do arquivo\n",
    "    caminho_arquivo = os.path.join(path, nome_arquivo)\n",
    "    \n",
    "    #Nome do arquivo sem extensao\n",
    "    nome_arquivo_sem_extensao = os.path.splitext(nome_arquivo)[0]\n",
    "\n",
    "    #Nome da Loja\n",
    "    loja = define_loja(nome_arquivo_sem_extensao)\n",
    "    print(f'Tratando loja {loja}')\n",
    "\n",
    "    df = None\n",
    "    df = pd.DataFrame(columns = ['Nome', 'email', 'Telefone', 'Loja'])\n",
    "\n",
    "    if os.path.isfile(caminho_arquivo):\n",
    "        df_sistema = pd.read_excel(caminho_arquivo)\n",
    "        #check null\n",
    "#        print(df_sistema.isnull().sum())\n",
    "\n",
    "        for i,a in enumerate(df_sistema['Telefone']):\n",
    "            nome_sistema = trata_nomes_sistema(df_sistema['Nome'][i])\n",
    "            email_sistema = df_sistema['E-mail'][i]\n",
    "            tel = df_sistema['Telefone'][i]\n",
    "            tel = trata_cel_sistema(str(tel))\n",
    "            if tel is not None:\n",
    "                parsed_tel = parse_phone_number(tel)\n",
    "            else:\n",
    "                parsed_tel = None\n",
    "            \n",
    "\n",
    "            if parsed_tel is not None:\n",
    "                df.loc[i] = [nome_sistema, email_sistema, parsed_tel, loja]\n",
    "                    \n",
    "        #drop dupliactes by column Telefone\n",
    "        df = df.drop_duplicates(subset='Telefone', keep='first')\n",
    "        df.to_csv(f'../output_sistema/Contatos_{loja}.csv', index=False)\n",
    "        print(f\"Arquivo {loja}.csv gerado com sucesso!\")\n",
    "\n",
    "        #print(f\"Aderencia da base de dados com a base de dados do sistema na loja {loja} foi de {df.shape[0]} de {df_sistema.shape[0]}. Isso significa que o % de aderencia foi de {round((df.shape[0]/df_sistema.shape[0])*100, 2)}%\")\n",
    "        #print(f\"O número de registros que nao tiveram aderencia foi de {df_sistema.shape[0] - df.shape[0]}\")"
   ]
  },
  {
   "cell_type": "markdown",
   "metadata": {},
   "source": [
    "#### Cria lista com os celulares que cada loja possui"
   ]
  },
  {
   "cell_type": "code",
   "execution_count": 35,
   "metadata": {},
   "outputs": [],
   "source": [
    "caminho_celulares = '../output_celulares_juntos/'\n",
    "caminho_sistema = '../output_sistema/'\n",
    "caminho_final = '../output_final/'\n",
    "\n",
    "#Listas para armazenar as lojas\n",
    "lojas_celulares = []\n",
    "lojas_sistema = []\n",
    "\n",
    "for nome_arquivo in os.listdir(caminho_celulares):\n",
    "    \n",
    "    #Caminho arquivo\n",
    "    caminho_arquivo = os.path.join(caminho_celulares, nome_arquivo)\n",
    "    \n",
    "    #Nome do arquivo sem extensao\n",
    "    nome_arquivo_sem_extensao = os.path.splitext(nome_arquivo)[0]\n",
    "\n",
    "    #Nome da Loja\n",
    "    loja = define_loja(nome_arquivo_sem_extensao)\n",
    "    lojas_celulares.append(loja)\n",
    "\n",
    "for nome_arquivo in os.listdir(caminho_sistema):\n",
    "    \n",
    "    #Caminho arquivo\n",
    "    caminho_arquivo = os.path.join(caminho_celulares, nome_arquivo)\n",
    "    \n",
    "    #Nome do arquivo sem extensao\n",
    "    nome_arquivo_sem_extensao = os.path.splitext(nome_arquivo)[0]\n",
    "\n",
    "    #Nome da Loja\n",
    "    loja = define_loja(nome_arquivo_sem_extensao)\n",
    "    lojas_sistema.append(loja)"
   ]
  },
  {
   "cell_type": "markdown",
   "metadata": {},
   "source": [
    "#### Consolida os dados do sistema e do celular em um unico arquivo por loja"
   ]
  },
  {
   "cell_type": "code",
   "execution_count": 36,
   "metadata": {},
   "outputs": [
    {
     "name": "stdout",
     "output_type": "stream",
     "text": [
      "Juntando arquivos da loja BarraShopping\n",
      "Arquivo BarraShopping.csv gerado com sucesso!\n",
      "===========================================\n",
      "Juntando arquivos da loja BossaNova\n",
      "Arquivo BossaNova.csv gerado com sucesso!\n",
      "===========================================\n",
      "Juntando arquivos da loja Dermatologic\n",
      "Arquivo Dermatologic.csv gerado com sucesso!\n",
      "===========================================\n",
      "Juntando arquivos da loja DtwBarra\n",
      "Arquivo DtwBarra.csv gerado com sucesso!\n",
      "===========================================\n",
      "Arquivo DtwExperience.csv gerado com sucesso!\n",
      "===========================================\n",
      "Arquivo DtwPremium.csv gerado com sucesso!\n",
      "===========================================\n",
      "Juntando arquivos da loja Esthetic\n",
      "Arquivo Esthetic.csv gerado com sucesso!\n",
      "===========================================\n",
      "Juntando arquivos da loja Ipanema\n",
      "Arquivo Ipanema.csv gerado com sucesso!\n",
      "===========================================\n",
      "Juntando arquivos da loja Laser\n",
      "Arquivo Laser.csv gerado com sucesso!\n",
      "===========================================\n",
      "Juntando arquivos da loja Niteroi\n",
      "Arquivo Niteroi.csv gerado com sucesso!\n",
      "===========================================\n",
      "Juntando arquivos da loja NorteShopping\n",
      "Arquivo NorteShopping.csv gerado com sucesso!\n",
      "===========================================\n",
      "Arquivo NovaIguacu.csv gerado com sucesso!\n",
      "===========================================\n",
      "Juntando arquivos da loja Tijuca\n",
      "Arquivo Tijuca.csv gerado com sucesso!\n",
      "===========================================\n"
     ]
    }
   ],
   "source": [
    "#Juntando os arquivos das pastas de acordo com o nome da loja\n",
    "caminho_celulares = '../output_celulares_juntos/'\n",
    "caminho_sistema = '../output_sistema/'\n",
    "caminho_final = '../output_final/'\n",
    "\n",
    "for nome_arquivo in os.listdir(caminho_celulares):\n",
    "    \n",
    "    #Caminho do arquivo\n",
    "    caminho_arquivo = os.path.join(caminho_celulares, nome_arquivo)\n",
    "    \n",
    "    #Nome do arquivo sem extensao\n",
    "    nome_arquivo_sem_extensao = os.path.splitext(nome_arquivo)[0]\n",
    "\n",
    "    #Nome da Loja\n",
    "    loja = define_loja(nome_arquivo_sem_extensao)\n",
    "\n",
    "    if loja in lojas_sistema:\n",
    "\n",
    "        for nome_arquivo_sistema in os.listdir(caminho_sistema):\n",
    "            #Caminho do arquivo\n",
    "            caminho_arquivo_sistema = os.path.join(caminho_sistema, nome_arquivo_sistema)\n",
    "            \n",
    "            #Nome do arquivo sem extensao\n",
    "            nome_arquivo_sem_extensao_sistema = os.path.splitext(nome_arquivo_sistema)[0]\n",
    "\n",
    "            #Nome da Loja\n",
    "            loja_sistema = define_loja(nome_arquivo_sem_extensao_sistema)\n",
    "\n",
    "            if loja == loja_sistema:\n",
    "                print(f'Juntando arquivos da loja {loja}')\n",
    "\n",
    "                #Abrir o arquivo do nome loja contendo os dados dos celulares:\n",
    "                df = pd.read_csv(caminho_arquivo)\n",
    "\n",
    "                #Abrir o arquivo do nome loja contendo os dados do sistema:\n",
    "                df_sistema = pd.read_csv(caminho_arquivo_sistema)\n",
    "\n",
    "                #Juntando os arquivos\n",
    "                df_final = pd.concat([df, df_sistema], ignore_index=True)\n",
    "                df_final = df_final.drop_duplicates(subset='Telefone', keep='first')\n",
    "                df_final.to_csv(f'{caminho_final}Contatos_{loja}.csv', index=False)\n",
    "                print(f\"Arquivo {loja}.csv gerado com sucesso!\")\n",
    "                print(\"===========================================\")\n",
    "    \n",
    "    else:\n",
    "        df = pd.read_csv(caminho_arquivo)\n",
    "        df.to_csv(f'{caminho_final}Contatos_{loja}.csv', index=False)\n",
    "        print(f\"Arquivo {loja}.csv gerado com sucesso!\")\n",
    "        print(\"===========================================\")\n",
    "\n",
    "        "
   ]
  },
  {
   "cell_type": "code",
   "execution_count": null,
   "metadata": {},
   "outputs": [],
   "source": []
  }
 ],
 "metadata": {
  "kernelspec": {
   "display_name": "Python 3",
   "language": "python",
   "name": "python3"
  },
  "language_info": {
   "codemirror_mode": {
    "name": "ipython",
    "version": 3
   },
   "file_extension": ".py",
   "mimetype": "text/x-python",
   "name": "python",
   "nbconvert_exporter": "python",
   "pygments_lexer": "ipython3",
   "version": "3.10.12"
  }
 },
 "nbformat": 4,
 "nbformat_minor": 2
}
